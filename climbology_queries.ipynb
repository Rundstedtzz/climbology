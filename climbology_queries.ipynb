{
 "cells": [
  {
   "cell_type": "markdown",
   "metadata": {},
   "source": [
    "# Test neo4j command"
   ]
  },
  {
   "cell_type": "markdown",
   "metadata": {},
   "source": [
    "## Import packages"
   ]
  },
  {
   "cell_type": "code",
   "execution_count": 4,
   "metadata": {},
   "outputs": [],
   "source": [
    "import neo4j\n",
    "import pandas as pd\n",
    "import json\n",
    "from neo4j import GraphDatabase"
   ]
  },
  {
   "cell_type": "markdown",
   "metadata": {},
   "source": [
    "## Graph Sample"
   ]
  },
  {
   "cell_type": "code",
   "execution_count": null,
   "metadata": {},
   "outputs": [],
   "source": [
    "'''\n",
    "Nodes\n",
    "\n",
    "{\n",
    "    \"name\": \"lack of faith\", \n",
    "    \"grade\": \"V3\", \n",
    "    \"angle\": 30, \n",
    "    \"holds\": [\n",
    "        {\"hold_id\": 39,\"x_coordinate\": 7,\"y_coordinate\": 3,\"type\": \"jug\",\"position_in_route\": \"middle\",\"depth\":2,\"orientation\": -60,\"size\": 3,\"foot_restriction\": \"foot-only\"}, \n",
    "        {\"hold_id\": 119,\"x_coordinate\": 11,\"y_coordinate\": 9,\"type\": \"jug\",\"position_in_route\": \"start\",\"depth\":2,\"orientation\": 0,\"size\": 4,\"foot_restriction\": \"foot-or-hand\"}, \n",
    "        {\"hold_id\": 145,\"x_coordinate\": 11,\"y_coordinate\": 11,\"type\": \"jug\",\"position_in_route\": \"start\",\"depth\":2,\"orientation\": 15,\"size\": 3,\"foot_restriction\": \"foot-or-hand\"}, \n",
    "        {\"hold_id\": 229,\"x_coordinate\": 23,\"y_coordinate\": 17,\"type\": \"jug\",\"position_in_route\": \"middle\",\"depth\":2,\"orientation\": 0,\"size\": 3,\"foot_restriction\": \"foot-only\"}, \n",
    "        {\"hold_id\": 249,\"x_coordinate\": 11,\"y_coordinate\": 19,\"type\": \"crimp\",\"position_in_route\": \"middle\",\"depth\":2,\"orientation\": 0,\"size\": 4,\"foot_restriction\": \"foot-or-hand\"}, \n",
    "        {\"hold_id\": 257,\"x_coordinate\": 27,\"y_coordinate\": 19,\"type\": \"jug\",\"position_in_route\": \"start\",\"depth\":2,\"orientation\": -45,\"size\": 3,\"foot_restriction\": \"foot-only\"}, \n",
    "        {\"hold_id\": 305,\"x_coordinate\": 19,\"y_coordinate\": 23,\"type\": \"jug\",\"position_in_route\": \"middle\",\"depth\":1,\"orientation\": 15,\"size\": 4,\"foot_restriction\": \"foot-or-hand\"}, \n",
    "        {\"hold_id\": 357,\"x_coordinate\": 19,\"y_coordinate\": 27,\"type\": \"crimp\",\"position_in_route\": \"middle\",\"depth\":1,\"orientation\": 0,\"size\": 3,\"foot_restriction\": \"foot-or-hand\"}, \n",
    "        {\"hold_id\": 358,\"x_coordinate\": 21,\"y_coordinate\": 27,\"type\": \"jug\",\"position_in_route\": \"middle\",\"depth\":2,\"orientation\": 180,\"size\": 4,\"foot_restriction\": \"foot-or-hand\"}, \n",
    "        {\"hold_id\": 451,\"x_coordinate\": 17,\"y_coordinate\": 35,\"type\": \"crimp\",\"position_in_route\": \"middle\",\"depth\":2,\"orientation\": 0,\"size\": 3,\"foot_restriction\": \"foot-or-hand\"}, \n",
    "        {\"hold_id\": 470,\"x_coordinate\": 21,\"y_coordinate\": 37,\"type\": \"jug\",\"position_in_route\": \"finish\",\"depth\":3,\"orientation\": 80,\"size\": 5,\"foot_restriction\": \"foot-or-hand\"}\n",
    "        ]\n",
    "} \n",
    "\n",
    "Relationships\n",
    "\n",
    "{\n",
    "    \"beta\":\n",
    "    [\n",
    "        {\"step\": 1, \"start_hold\": 119, \"end_hold\": 305, \"move_type\": \"dyno\", \"body_part\": \"right-hand\"}, \n",
    "        {\"step\": 1, \"start_hold\": 145, \"end_hold\": 357, \"move_type\": \"dyno\", \"body_part\": \"left-hand\"}, \n",
    "        {\"step\": 1, \"start_hold\": 39, \"end_hold\": 229, \"move_type\": \"static\", \"body_part\": \"right-foot\"}, \n",
    "        {\"step\": 1, \"start_hold\": 39, \"end_hold\": 145, \"move_type\": \"static\", \"body_part\": \"left-foot\"}, \n",
    "        {\"step\": 2, \"start_hold\": 305, \"end_hold\": 358, \"move_type\": \"static\", \"body_part\": \"right-hand\"}, \n",
    "        {\"step\": 3, \"start_hold\": 145, \"end_hold\": 249, \"move_type\": \"static\", \"body_part\": \"left-foot\"}, \n",
    "        {\"step\": 3, \"start_hold\": 357, \"end_hold\": 451, \"move_type\": \"dead-point\", \"body_part\": \"left-hand\"}, \n",
    "        {\"step\": 3, \"start_hold\": 358, \"end_hold\": 470, \"move_type\": \"static\", \"body_part\": \"right-hand\"}, \n",
    "        {\"step\": 4, \"start_hold\": 451, \"end_hold\": 470, \"move_type\": \"static\", \"body_part\": \"left-hand\"}\n",
    "        ]\n",
    "}\n",
    "'''"
   ]
  },
  {
   "cell_type": "markdown",
   "metadata": {},
   "source": [
    "## clear output & connect"
   ]
  },
  {
   "cell_type": "code",
   "execution_count": 79,
   "metadata": {},
   "outputs": [],
   "source": [
    "def connect_db():\n",
    "    driver = neo4j.GraphDatabase.driver(uri=\"neo4j://0.0.0.0:7687\", auth=(\"neo4j\",\"password\"))\n",
    "    session = driver.session(database=\"neo4j\")\n",
    "    return session\n",
    "    \n",
    "def wipe_out_db(session):\n",
    "    # wipe out database by deleting all nodes and relationships\n",
    "    \n",
    "    # similar to SELECT * FROM graph_db in SQL\n",
    "    query = \"match (node)-[relationship]->() delete node, relationship\"\n",
    "    session.run(query)\n",
    "    \n",
    "    query = \"match (node) delete node\"\n",
    "    session.run(query)\n",
    "\n",
    "session = connect_db()\n",
    "wipe_out_db(session) "
   ]
  },
  {
   "cell_type": "markdown",
   "metadata": {},
   "source": [
    "## Load data"
   ]
  },
  {
   "cell_type": "code",
   "execution_count": 80,
   "metadata": {},
   "outputs": [],
   "source": [
    "json_data =\"\"\"{\n",
    "    \"name\": \"lack of faith\", \n",
    "    \"grade\": \"V3\", \n",
    "    \"angle\": 30, \n",
    "    \"holds\": [\n",
    "        {\"hold_id\": 39,\"x_coordinate\": 7,\"y_coordinate\": 3,\"type\": \"jug\",\"position_in_route\": \"middle\",\"depth\":2,\"orientation\": -60,\"size\": 3,\"foot_restriction\": \"foot-only\"}, \n",
    "        {\"hold_id\": 119,\"x_coordinate\": 11,\"y_coordinate\": 9,\"type\": \"jug\",\"position_in_route\": \"start\",\"depth\":2,\"orientation\": 0,\"size\": 4,\"foot_restriction\": \"foot-or-hand\"}, \n",
    "        {\"hold_id\": 145,\"x_coordinate\": 11,\"y_coordinate\": 11,\"type\": \"jug\",\"position_in_route\": \"start\",\"depth\":2,\"orientation\": 15,\"size\": 3,\"foot_restriction\": \"foot-or-hand\"}, \n",
    "        {\"hold_id\": 229,\"x_coordinate\": 23,\"y_coordinate\": 17,\"type\": \"jug\",\"position_in_route\": \"middle\",\"depth\":2,\"orientation\": 0,\"size\": 3,\"foot_restriction\": \"foot-only\"}, \n",
    "        {\"hold_id\": 249,\"x_coordinate\": 11,\"y_coordinate\": 19,\"type\": \"crimp\",\"position_in_route\": \"middle\",\"depth\":2,\"orientation\": 0,\"size\": 4,\"foot_restriction\": \"foot-or-hand\"}, \n",
    "        {\"hold_id\": 257,\"x_coordinate\": 27,\"y_coordinate\": 19,\"type\": \"jug\",\"position_in_route\": \"start\",\"depth\":2,\"orientation\": -45,\"size\": 3,\"foot_restriction\": \"foot-only\"}, \n",
    "        {\"hold_id\": 305,\"x_coordinate\": 19,\"y_coordinate\": 23,\"type\": \"jug\",\"position_in_route\": \"middle\",\"depth\":1,\"orientation\": 15,\"size\": 4,\"foot_restriction\": \"foot-or-hand\"}, \n",
    "        {\"hold_id\": 357,\"x_coordinate\": 19,\"y_coordinate\": 27,\"type\": \"crimp\",\"position_in_route\": \"middle\",\"depth\":1,\"orientation\": 0,\"size\": 3,\"foot_restriction\": \"foot-or-hand\"}, \n",
    "        {\"hold_id\": 358,\"x_coordinate\": 21,\"y_coordinate\": 27,\"type\": \"jug\",\"position_in_route\": \"middle\",\"depth\":2,\"orientation\": 180,\"size\": 4,\"foot_restriction\": \"foot-or-hand\"}, \n",
    "        {\"hold_id\": 451,\"x_coordinate\": 17,\"y_coordinate\": 35,\"type\": \"crimp\",\"position_in_route\": \"middle\",\"depth\":2,\"orientation\": 0,\"size\": 3,\"foot_restriction\": \"foot-or-hand\"}, \n",
    "        {\"hold_id\": 470,\"x_coordinate\": 21,\"y_coordinate\": 37,\"type\": \"jug\",\"position_in_route\": \"finish\",\"depth\":3,\"orientation\": 80,\"size\": 5,\"foot_restriction\": \"foot-or-hand\"}\n",
    "        ]\n",
    "}\"\"\""
   ]
  },
  {
   "cell_type": "code",
   "execution_count": 81,
   "metadata": {},
   "outputs": [],
   "source": [
    "data = json.loads(json_data)"
   ]
  },
  {
   "cell_type": "markdown",
   "metadata": {},
   "source": [
    "## QUERY 1: Create nodes/routes all together from JSON\n",
    "Can be visualized via Neo4j Browser"
   ]
  },
  {
   "cell_type": "code",
   "execution_count": 82,
   "metadata": {},
   "outputs": [],
   "source": [
    "def generate_cypher_commands(json_data):\n",
    "    data = json.loads(json_data)\n",
    "\n",
    "    # Holds extraction\n",
    "    holds = data.get(\"holds\", [])\n",
    "    cypher_commands = []\n",
    "\n",
    "    for hold in holds:\n",
    "        command = \"CREATE (:Hold {\"\n",
    "        command += f\"hold_id: {hold['hold_id']}, \"\n",
    "        command += f\"x_coordinate: {hold['x_coordinate']}, \"\n",
    "        command += f\"y_coordinate: {hold['y_coordinate']}, \"\n",
    "        command += f\"type: '{hold['type']}', \"\n",
    "        command += f\"position_in_route: '{hold['position_in_route']}', \"\n",
    "        command += f\"depth: {hold['depth']}, \"\n",
    "        command += f\"orientation: {hold['orientation']}, \"\n",
    "        command += f\"size: {hold['size']}, \"\n",
    "        command += f\"foot_restriction: '{hold['foot_restriction']}'\"\n",
    "        command += \"});\"\n",
    "        cypher_commands.append(command)\n",
    "\n",
    "    return cypher_commands"
   ]
  },
  {
   "cell_type": "code",
   "execution_count": 83,
   "metadata": {},
   "outputs": [
    {
     "name": "stdout",
     "output_type": "stream",
     "text": [
      "CREATE (:Hold {hold_id: 39, x_coordinate: 7, y_coordinate: 3, type: 'jug', position_in_route: 'middle', depth: 2, orientation: -60, size: 3, foot_restriction: 'foot-only'});\n",
      "CREATE (:Hold {hold_id: 119, x_coordinate: 11, y_coordinate: 9, type: 'jug', position_in_route: 'start', depth: 2, orientation: 0, size: 4, foot_restriction: 'foot-or-hand'});\n",
      "CREATE (:Hold {hold_id: 145, x_coordinate: 11, y_coordinate: 11, type: 'jug', position_in_route: 'start', depth: 2, orientation: 15, size: 3, foot_restriction: 'foot-or-hand'});\n",
      "CREATE (:Hold {hold_id: 229, x_coordinate: 23, y_coordinate: 17, type: 'jug', position_in_route: 'middle', depth: 2, orientation: 0, size: 3, foot_restriction: 'foot-only'});\n",
      "CREATE (:Hold {hold_id: 249, x_coordinate: 11, y_coordinate: 19, type: 'crimp', position_in_route: 'middle', depth: 2, orientation: 0, size: 4, foot_restriction: 'foot-or-hand'});\n",
      "CREATE (:Hold {hold_id: 257, x_coordinate: 27, y_coordinate: 19, type: 'jug', position_in_route: 'start', depth: 2, orientation: -45, size: 3, foot_restriction: 'foot-only'});\n",
      "CREATE (:Hold {hold_id: 305, x_coordinate: 19, y_coordinate: 23, type: 'jug', position_in_route: 'middle', depth: 1, orientation: 15, size: 4, foot_restriction: 'foot-or-hand'});\n",
      "CREATE (:Hold {hold_id: 357, x_coordinate: 19, y_coordinate: 27, type: 'crimp', position_in_route: 'middle', depth: 1, orientation: 0, size: 3, foot_restriction: 'foot-or-hand'});\n",
      "CREATE (:Hold {hold_id: 358, x_coordinate: 21, y_coordinate: 27, type: 'jug', position_in_route: 'middle', depth: 2, orientation: 180, size: 4, foot_restriction: 'foot-or-hand'});\n",
      "CREATE (:Hold {hold_id: 451, x_coordinate: 17, y_coordinate: 35, type: 'crimp', position_in_route: 'middle', depth: 2, orientation: 0, size: 3, foot_restriction: 'foot-or-hand'});\n",
      "CREATE (:Hold {hold_id: 470, x_coordinate: 21, y_coordinate: 37, type: 'jug', position_in_route: 'finish', depth: 3, orientation: 80, size: 5, foot_restriction: 'foot-or-hand'});\n"
     ]
    }
   ],
   "source": [
    "commands = generate_cypher_commands(json_data)\n",
    "for cmd in commands:\n",
    "    print(cmd)"
   ]
  },
  {
   "cell_type": "code",
   "execution_count": 84,
   "metadata": {},
   "outputs": [
    {
     "data": {
      "text/plain": [
       "[\"CREATE (:Hold {hold_id: 39, x_coordinate: 7, y_coordinate: 3, type: 'jug', position_in_route: 'middle', depth: 2, orientation: -60, size: 3, foot_restriction: 'foot-only'});\",\n",
       " \"CREATE (:Hold {hold_id: 119, x_coordinate: 11, y_coordinate: 9, type: 'jug', position_in_route: 'start', depth: 2, orientation: 0, size: 4, foot_restriction: 'foot-or-hand'});\",\n",
       " \"CREATE (:Hold {hold_id: 145, x_coordinate: 11, y_coordinate: 11, type: 'jug', position_in_route: 'start', depth: 2, orientation: 15, size: 3, foot_restriction: 'foot-or-hand'});\",\n",
       " \"CREATE (:Hold {hold_id: 229, x_coordinate: 23, y_coordinate: 17, type: 'jug', position_in_route: 'middle', depth: 2, orientation: 0, size: 3, foot_restriction: 'foot-only'});\",\n",
       " \"CREATE (:Hold {hold_id: 249, x_coordinate: 11, y_coordinate: 19, type: 'crimp', position_in_route: 'middle', depth: 2, orientation: 0, size: 4, foot_restriction: 'foot-or-hand'});\",\n",
       " \"CREATE (:Hold {hold_id: 257, x_coordinate: 27, y_coordinate: 19, type: 'jug', position_in_route: 'start', depth: 2, orientation: -45, size: 3, foot_restriction: 'foot-only'});\",\n",
       " \"CREATE (:Hold {hold_id: 305, x_coordinate: 19, y_coordinate: 23, type: 'jug', position_in_route: 'middle', depth: 1, orientation: 15, size: 4, foot_restriction: 'foot-or-hand'});\",\n",
       " \"CREATE (:Hold {hold_id: 357, x_coordinate: 19, y_coordinate: 27, type: 'crimp', position_in_route: 'middle', depth: 1, orientation: 0, size: 3, foot_restriction: 'foot-or-hand'});\",\n",
       " \"CREATE (:Hold {hold_id: 358, x_coordinate: 21, y_coordinate: 27, type: 'jug', position_in_route: 'middle', depth: 2, orientation: 180, size: 4, foot_restriction: 'foot-or-hand'});\",\n",
       " \"CREATE (:Hold {hold_id: 451, x_coordinate: 17, y_coordinate: 35, type: 'crimp', position_in_route: 'middle', depth: 2, orientation: 0, size: 3, foot_restriction: 'foot-or-hand'});\",\n",
       " \"CREATE (:Hold {hold_id: 470, x_coordinate: 21, y_coordinate: 37, type: 'jug', position_in_route: 'finish', depth: 3, orientation: 80, size: 5, foot_restriction: 'foot-or-hand'});\"]"
      ]
     },
     "execution_count": 84,
     "metadata": {},
     "output_type": "execute_result"
    }
   ],
   "source": [
    "commands"
   ]
  },
  {
   "cell_type": "code",
   "execution_count": 85,
   "metadata": {},
   "outputs": [],
   "source": [
    "def connect_db():\n",
    "    uri = \"neo4j://0.0.0.0:7687\"\n",
    "    user = \"neo4j\"\n",
    "    password = \"password\"\n",
    "    driver = GraphDatabase.driver(uri, auth=(user, password))\n",
    "    return driver\n",
    "\n",
    "def run_commands(driver, commands):\n",
    "    with driver.session(database=\"neo4j\") as session:\n",
    "        for command in commands:\n",
    "            session.run(command)\n"
   ]
  },
  {
   "cell_type": "code",
   "execution_count": 86,
   "metadata": {},
   "outputs": [],
   "source": [
    "driver = connect_db()\n",
    "run_commands(driver, commands)"
   ]
  },
  {
   "cell_type": "code",
   "execution_count": 87,
   "metadata": {},
   "outputs": [],
   "source": [
    "# Can be visualized via Neo4j Browser"
   ]
  },
  {
   "cell_type": "markdown",
   "metadata": {},
   "source": [
    "## QUERY 2: Create relationships/betas\n",
    "Can be visualized via Neo4j Browser"
   ]
  },
  {
   "cell_type": "code",
   "execution_count": 88,
   "metadata": {},
   "outputs": [],
   "source": [
    "def generate_relationship_commands(json_data):\n",
    "    data = json.loads(json_data)\n",
    "\n",
    "    # Beta (Movements) extraction\n",
    "    beta = data.get(\"beta\", [])\n",
    "    cypher_commands = []\n",
    "\n",
    "    for move in beta:\n",
    "        command = (\n",
    "            f\"MATCH (start:Hold {{hold_id: {move['start_hold']}}}), \"\n",
    "            f\"(end:Hold {{hold_id: {move['end_hold']}}}) \"\n",
    "            f\"CREATE (start)-[:MOVE_TO {{\"\n",
    "            f\"step: {move['step']}, \"\n",
    "            f\"move_type: '{move['move_type']}', \"\n",
    "            f\"body_part: '{move['body_part']}'\"\n",
    "            f\"}}]->(end);\"\n",
    "        )\n",
    "        cypher_commands.append(command)\n",
    "\n",
    "    return cypher_commands"
   ]
  },
  {
   "cell_type": "code",
   "execution_count": 89,
   "metadata": {},
   "outputs": [],
   "source": [
    "json_data ='''\n",
    "{\n",
    "    \"beta\":\n",
    "    [\n",
    "        {\"step\": 1, \"start_hold\": 119, \"end_hold\": 305, \"move_type\": \"dyno\", \"body_part\": \"right-hand\"}, \n",
    "        {\"step\": 1, \"start_hold\": 145, \"end_hold\": 357, \"move_type\": \"dyno\", \"body_part\": \"left-hand\"}, \n",
    "        {\"step\": 1, \"start_hold\": 39, \"end_hold\": 229, \"move_type\": \"static\", \"body_part\": \"right-foot\"}, \n",
    "        {\"step\": 1, \"start_hold\": 39, \"end_hold\": 145, \"move_type\": \"static\", \"body_part\": \"left-foot\"}, \n",
    "        {\"step\": 2, \"start_hold\": 305, \"end_hold\": 358, \"move_type\": \"static\", \"body_part\": \"right-hand\"}, \n",
    "        {\"step\": 3, \"start_hold\": 145, \"end_hold\": 249, \"move_type\": \"static\", \"body_part\": \"left-foot\"}, \n",
    "        {\"step\": 3, \"start_hold\": 357, \"end_hold\": 451, \"move_type\": \"dead-point\", \"body_part\": \"left-hand\"}, \n",
    "        {\"step\": 3, \"start_hold\": 358, \"end_hold\": 470, \"move_type\": \"static\", \"body_part\": \"right-hand\"}, \n",
    "        {\"step\": 4, \"start_hold\": 451, \"end_hold\": 470, \"move_type\": \"static\", \"body_part\": \"left-hand\"}\n",
    "        ]\n",
    "}\n",
    "'''"
   ]
  },
  {
   "cell_type": "code",
   "execution_count": 90,
   "metadata": {},
   "outputs": [
    {
     "name": "stdout",
     "output_type": "stream",
     "text": [
      "MATCH (start:Hold {hold_id: 119}), (end:Hold {hold_id: 305}) CREATE (start)-[:MOVE_TO {step: 1, move_type: 'dyno', body_part: 'right-hand'}]->(end);\n",
      "MATCH (start:Hold {hold_id: 145}), (end:Hold {hold_id: 357}) CREATE (start)-[:MOVE_TO {step: 1, move_type: 'dyno', body_part: 'left-hand'}]->(end);\n",
      "MATCH (start:Hold {hold_id: 39}), (end:Hold {hold_id: 229}) CREATE (start)-[:MOVE_TO {step: 1, move_type: 'static', body_part: 'right-foot'}]->(end);\n",
      "MATCH (start:Hold {hold_id: 39}), (end:Hold {hold_id: 145}) CREATE (start)-[:MOVE_TO {step: 1, move_type: 'static', body_part: 'left-foot'}]->(end);\n",
      "MATCH (start:Hold {hold_id: 305}), (end:Hold {hold_id: 358}) CREATE (start)-[:MOVE_TO {step: 2, move_type: 'static', body_part: 'right-hand'}]->(end);\n",
      "MATCH (start:Hold {hold_id: 145}), (end:Hold {hold_id: 249}) CREATE (start)-[:MOVE_TO {step: 3, move_type: 'static', body_part: 'left-foot'}]->(end);\n",
      "MATCH (start:Hold {hold_id: 357}), (end:Hold {hold_id: 451}) CREATE (start)-[:MOVE_TO {step: 3, move_type: 'dead-point', body_part: 'left-hand'}]->(end);\n",
      "MATCH (start:Hold {hold_id: 358}), (end:Hold {hold_id: 470}) CREATE (start)-[:MOVE_TO {step: 3, move_type: 'static', body_part: 'right-hand'}]->(end);\n",
      "MATCH (start:Hold {hold_id: 451}), (end:Hold {hold_id: 470}) CREATE (start)-[:MOVE_TO {step: 4, move_type: 'static', body_part: 'left-hand'}]->(end);\n"
     ]
    }
   ],
   "source": [
    "commands = generate_relationship_commands(json_data)\n",
    "for cmd in commands:\n",
    "    print(cmd)"
   ]
  },
  {
   "cell_type": "code",
   "execution_count": 91,
   "metadata": {},
   "outputs": [],
   "source": [
    "driver = connect_db()\n",
    "run_commands(driver, commands)"
   ]
  },
  {
   "cell_type": "markdown",
   "metadata": {},
   "source": [
    "## QUERY 3: Update nodes/routes\n",
    "Can be visualized via Neo4j Browser"
   ]
  },
  {
   "cell_type": "code",
   "execution_count": 92,
   "metadata": {},
   "outputs": [
    {
     "name": "stdout",
     "output_type": "stream",
     "text": [
      "<Record h=<Node element_id='4:7e30d2ae-64fe-474f-b9d5-9a8441a5051a:1' labels=frozenset({'Hold'}) properties={'x_coordinate': 11, 'foot_restriction': 'foot-or-hand', 'orientation': 0, 'depth': 2, 'size': 4, 'position_in_route': 'start', 'hold_id': 119, 'type': 'pinch', 'y_coordinate': 9}>>\n"
     ]
    }
   ],
   "source": [
    "driver = GraphDatabase.driver(\"neo4j://localhost:7687\", auth=(\"neo4j\", \"password\"))\n",
    "\n",
    "def update_hold(driver, hold_id, property_to_update, new_value):\n",
    "    with driver.session() as session:\n",
    "        result = session.run(\n",
    "            f\"MATCH (h:Hold {{hold_id: {hold_id}}}) \"\n",
    "            f\"SET h.{property_to_update} = '{new_value}' \"\n",
    "            f\"RETURN h;\"\n",
    "        )\n",
    "        return result.single()\n",
    "\n",
    "update_result = update_hold(driver, 119, \"type\", \"pinch\")\n",
    "print(update_result)\n"
   ]
  },
  {
   "cell_type": "markdown",
   "metadata": {},
   "source": [
    "## QUERY 4: Delete nodes/routes\n",
    "Can be visualized via Neo4j Browser"
   ]
  },
  {
   "cell_type": "code",
   "execution_count": 93,
   "metadata": {},
   "outputs": [],
   "source": [
    "def delete_hold(driver, hold_id):\n",
    "    with driver.session() as session:\n",
    "        try:\n",
    "            result = session.run(\n",
    "                \"MATCH (h:Hold {hold_id: $hold_id}) DETACH DELETE h\",\n",
    "                {\"hold_id\": hold_id}\n",
    "            )\n",
    "            return result.single()\n",
    "        except Exception as e:\n",
    "            print(f\"An error occurred: {e}\")\n",
    "            return None\n",
    "\n",
    "delete_hold(driver, 257)\n"
   ]
  },
  {
   "cell_type": "markdown",
   "metadata": {},
   "source": [
    "## QUERY 5: Update relationships/betas\n",
    "Can be visualized via Neo4j Browser"
   ]
  },
  {
   "cell_type": "code",
   "execution_count": 94,
   "metadata": {},
   "outputs": [
    {
     "name": "stdout",
     "output_type": "stream",
     "text": [
      "<Record r=<Relationship element_id='5:7e30d2ae-64fe-474f-b9d5-9a8441a5051a:0' nodes=(<Node element_id='4:7e30d2ae-64fe-474f-b9d5-9a8441a5051a:1' labels=frozenset() properties={}>, <Node element_id='4:7e30d2ae-64fe-474f-b9d5-9a8441a5051a:6' labels=frozenset() properties={}>) type='MOVE_TO' properties={'move_type': 'static', 'step': 1, 'body_part': 'right-hand'}>>\n"
     ]
    }
   ],
   "source": [
    "def update_relationship(driver, start_hold_id, end_hold_id, property_to_update, new_value):\n",
    "    with driver.session() as session:\n",
    "        result = session.run(\n",
    "        f\"MATCH (start:Hold {{hold_id: {start_hold_id}}})-[r:MOVE_TO]->(end:Hold {{hold_id: {end_hold_id}}}) \"\n",
    "        f\"SET r.{property_to_update} = '{new_value}' \"\n",
    "        f\"RETURN r;\"\n",
    "        )\n",
    "        return result.single()\n",
    "\n",
    "update_result = update_relationship(driver, 119, 305, \"move_type\", \"static\")\n",
    "print(update_result)"
   ]
  },
  {
   "cell_type": "markdown",
   "metadata": {},
   "source": [
    "## QUERY 6: Delete relationships/betas\n",
    "Can be visualized via Neo4j Browser"
   ]
  },
  {
   "cell_type": "code",
   "execution_count": 95,
   "metadata": {},
   "outputs": [],
   "source": [
    "def delete_specific_relationships(driver, relationship_type, start_node_id, end_node_id):\n",
    "    with driver.session() as session:\n",
    "        try:\n",
    "            query = (\n",
    "                f\"MATCH (start)-[r:{relationship_type}]->(end) \"\n",
    "                \"WHERE start.hold_id = $start_id AND end.hold_id = $end_id \"\n",
    "                \"DELETE r\"\n",
    "            )\n",
    "            result = session.run(query, {\"start_id\": start_node_id, \"end_id\": end_node_id})\n",
    "            return result.single()\n",
    "        except Exception as e:\n",
    "            print(f\"An error occurred: {e}\")\n",
    "            return None\n",
    "\n",
    "delete_specific_relationships(driver, \"MOVE_TO\", 119, 305)"
   ]
  },
  {
   "cell_type": "markdown",
   "metadata": {},
   "source": [
    "## QUERY 7: Find all nodes/routes by properties\n",
    "Can be visualized via Neo4j Browser"
   ]
  },
  {
   "cell_type": "code",
   "execution_count": 98,
   "metadata": {},
   "outputs": [
    {
     "data": {
      "text/html": [
       "<div>\n",
       "<style scoped>\n",
       "    .dataframe tbody tr th:only-of-type {\n",
       "        vertical-align: middle;\n",
       "    }\n",
       "\n",
       "    .dataframe tbody tr th {\n",
       "        vertical-align: top;\n",
       "    }\n",
       "\n",
       "    .dataframe thead th {\n",
       "        text-align: right;\n",
       "    }\n",
       "</style>\n",
       "<table border=\"1\" class=\"dataframe\">\n",
       "  <thead>\n",
       "    <tr style=\"text-align: right;\">\n",
       "      <th></th>\n",
       "      <th>x_coordinate</th>\n",
       "      <th>foot_restriction</th>\n",
       "      <th>orientation</th>\n",
       "      <th>depth</th>\n",
       "      <th>size</th>\n",
       "      <th>position_in_route</th>\n",
       "      <th>hold_id</th>\n",
       "      <th>type</th>\n",
       "      <th>y_coordinate</th>\n",
       "    </tr>\n",
       "  </thead>\n",
       "  <tbody>\n",
       "    <tr>\n",
       "      <th>0</th>\n",
       "      <td>11</td>\n",
       "      <td>foot-or-hand</td>\n",
       "      <td>15</td>\n",
       "      <td>2</td>\n",
       "      <td>3</td>\n",
       "      <td>start</td>\n",
       "      <td>145</td>\n",
       "      <td>jug</td>\n",
       "      <td>11</td>\n",
       "    </tr>\n",
       "    <tr>\n",
       "      <th>1</th>\n",
       "      <td>23</td>\n",
       "      <td>foot-only</td>\n",
       "      <td>0</td>\n",
       "      <td>2</td>\n",
       "      <td>3</td>\n",
       "      <td>middle</td>\n",
       "      <td>229</td>\n",
       "      <td>jug</td>\n",
       "      <td>17</td>\n",
       "    </tr>\n",
       "    <tr>\n",
       "      <th>2</th>\n",
       "      <td>7</td>\n",
       "      <td>foot-only</td>\n",
       "      <td>-60</td>\n",
       "      <td>2</td>\n",
       "      <td>3</td>\n",
       "      <td>middle</td>\n",
       "      <td>39</td>\n",
       "      <td>jug</td>\n",
       "      <td>3</td>\n",
       "    </tr>\n",
       "    <tr>\n",
       "      <th>3</th>\n",
       "      <td>19</td>\n",
       "      <td>foot-or-hand</td>\n",
       "      <td>15</td>\n",
       "      <td>1</td>\n",
       "      <td>4</td>\n",
       "      <td>middle</td>\n",
       "      <td>305</td>\n",
       "      <td>jug</td>\n",
       "      <td>23</td>\n",
       "    </tr>\n",
       "    <tr>\n",
       "      <th>4</th>\n",
       "      <td>21</td>\n",
       "      <td>foot-or-hand</td>\n",
       "      <td>180</td>\n",
       "      <td>2</td>\n",
       "      <td>4</td>\n",
       "      <td>middle</td>\n",
       "      <td>358</td>\n",
       "      <td>jug</td>\n",
       "      <td>27</td>\n",
       "    </tr>\n",
       "    <tr>\n",
       "      <th>5</th>\n",
       "      <td>21</td>\n",
       "      <td>foot-or-hand</td>\n",
       "      <td>80</td>\n",
       "      <td>3</td>\n",
       "      <td>5</td>\n",
       "      <td>finish</td>\n",
       "      <td>470</td>\n",
       "      <td>jug</td>\n",
       "      <td>37</td>\n",
       "    </tr>\n",
       "  </tbody>\n",
       "</table>\n",
       "</div>"
      ],
      "text/plain": [
       "   x_coordinate foot_restriction  orientation  depth  size position_in_route  \\\n",
       "0            11     foot-or-hand           15      2     3             start   \n",
       "1            23        foot-only            0      2     3            middle   \n",
       "2             7        foot-only          -60      2     3            middle   \n",
       "3            19     foot-or-hand           15      1     4            middle   \n",
       "4            21     foot-or-hand          180      2     4            middle   \n",
       "5            21     foot-or-hand           80      3     5            finish   \n",
       "\n",
       "   hold_id type  y_coordinate  \n",
       "0      145  jug            11  \n",
       "1      229  jug            17  \n",
       "2       39  jug             3  \n",
       "3      305  jug            23  \n",
       "4      358  jug            27  \n",
       "5      470  jug            37  "
      ]
     },
     "execution_count": 98,
     "metadata": {},
     "output_type": "execute_result"
    }
   ],
   "source": [
    "driver = GraphDatabase.driver(\"neo4j://localhost:7687\", auth=(\"neo4j\", \"password\"))\n",
    "\n",
    "def fetch_nodes_with_type_jug(driver):\n",
    "    with driver.session() as session:\n",
    "        result = session.run(\"MATCH (n) WHERE n.type = 'jug' RETURN n\")\n",
    "        nodes = [record[\"n\"] for record in result]\n",
    "        return nodes\n",
    "\n",
    "def to_dataframe(nodes):\n",
    "    nodes_data = [node._properties for node in nodes]\n",
    "    return pd.DataFrame(nodes_data)\n",
    "\n",
    "nodes = fetch_nodes_with_type_jug(driver)\n",
    "nodes_df = to_dataframe(nodes)\n",
    "nodes_df"
   ]
  },
  {
   "cell_type": "markdown",
   "metadata": {},
   "source": [
    "## QUERY 8: Find all relationships/betas by properties"
   ]
  },
  {
   "cell_type": "code",
   "execution_count": 101,
   "metadata": {},
   "outputs": [
    {
     "data": {
      "text/html": [
       "<div>\n",
       "<style scoped>\n",
       "    .dataframe tbody tr th:only-of-type {\n",
       "        vertical-align: middle;\n",
       "    }\n",
       "\n",
       "    .dataframe tbody tr th {\n",
       "        vertical-align: top;\n",
       "    }\n",
       "\n",
       "    .dataframe thead th {\n",
       "        text-align: right;\n",
       "    }\n",
       "</style>\n",
       "<table border=\"1\" class=\"dataframe\">\n",
       "  <thead>\n",
       "    <tr style=\"text-align: right;\">\n",
       "      <th></th>\n",
       "      <th>start_x_coordinate</th>\n",
       "      <th>start_foot_restriction</th>\n",
       "      <th>start_orientation</th>\n",
       "      <th>start_depth</th>\n",
       "      <th>start_size</th>\n",
       "      <th>start_position_in_route</th>\n",
       "      <th>start_hold_id</th>\n",
       "      <th>start_type</th>\n",
       "      <th>start_y_coordinate</th>\n",
       "      <th>rel_move_type</th>\n",
       "      <th>...</th>\n",
       "      <th>rel_body_part</th>\n",
       "      <th>end_x_coordinate</th>\n",
       "      <th>end_foot_restriction</th>\n",
       "      <th>end_orientation</th>\n",
       "      <th>end_depth</th>\n",
       "      <th>end_size</th>\n",
       "      <th>end_position_in_route</th>\n",
       "      <th>end_hold_id</th>\n",
       "      <th>end_type</th>\n",
       "      <th>end_y_coordinate</th>\n",
       "    </tr>\n",
       "  </thead>\n",
       "  <tbody>\n",
       "    <tr>\n",
       "      <th>0</th>\n",
       "      <td>11</td>\n",
       "      <td>foot-or-hand</td>\n",
       "      <td>15</td>\n",
       "      <td>2</td>\n",
       "      <td>3</td>\n",
       "      <td>start</td>\n",
       "      <td>145</td>\n",
       "      <td>jug</td>\n",
       "      <td>11</td>\n",
       "      <td>dyno</td>\n",
       "      <td>...</td>\n",
       "      <td>left-hand</td>\n",
       "      <td>19</td>\n",
       "      <td>foot-or-hand</td>\n",
       "      <td>0</td>\n",
       "      <td>1</td>\n",
       "      <td>3</td>\n",
       "      <td>middle</td>\n",
       "      <td>357</td>\n",
       "      <td>crimp</td>\n",
       "      <td>27</td>\n",
       "    </tr>\n",
       "  </tbody>\n",
       "</table>\n",
       "<p>1 rows × 21 columns</p>\n",
       "</div>"
      ],
      "text/plain": [
       "   start_x_coordinate start_foot_restriction  start_orientation  start_depth  \\\n",
       "0                  11           foot-or-hand                 15            2   \n",
       "\n",
       "   start_size start_position_in_route  start_hold_id start_type  \\\n",
       "0           3                   start            145        jug   \n",
       "\n",
       "   start_y_coordinate rel_move_type  ...  rel_body_part end_x_coordinate  \\\n",
       "0                  11          dyno  ...      left-hand               19   \n",
       "\n",
       "   end_foot_restriction end_orientation  end_depth  end_size  \\\n",
       "0          foot-or-hand               0          1         3   \n",
       "\n",
       "   end_position_in_route end_hold_id  end_type end_y_coordinate  \n",
       "0                 middle         357     crimp               27  \n",
       "\n",
       "[1 rows x 21 columns]"
      ]
     },
     "execution_count": 101,
     "metadata": {},
     "output_type": "execute_result"
    }
   ],
   "source": [
    "def fetch_relationships_and_nodes(driver):\n",
    "    with driver.session() as session:\n",
    "        result = session.run(\n",
    "            \"MATCH (start)-[r]->(end) \"\n",
    "            \"WHERE r.move_type = 'dyno' \"\n",
    "            \"RETURN start, r, end\"\n",
    "        )\n",
    "        data = []\n",
    "        for record in result:\n",
    "            # Flatten the properties into a single dictionary for each row\n",
    "            row_data = {\n",
    "                **{'start_' + key: val for key, val in record['start']._properties.items()},\n",
    "                **{'rel_' + key: val for key, val in record['r']._properties.items()},\n",
    "                **{'end_' + key: val for key, val in record['end']._properties.items()},\n",
    "            }\n",
    "            data.append(row_data)\n",
    "        return data\n",
    "\n",
    "def to_dataframe(data):\n",
    "    return pd.DataFrame(data)\n",
    "\n",
    "data = fetch_relationships_and_nodes(driver)\n",
    "df = to_dataframe(data)\n",
    "df"
   ]
  },
  {
   "cell_type": "code",
   "execution_count": null,
   "metadata": {},
   "outputs": [],
   "source": []
  }
 ],
 "metadata": {
  "kernelspec": {
   "display_name": "base",
   "language": "python",
   "name": "python3"
  },
  "language_info": {
   "codemirror_mode": {
    "name": "ipython",
    "version": 3
   },
   "file_extension": ".py",
   "mimetype": "text/x-python",
   "name": "python",
   "nbconvert_exporter": "python",
   "pygments_lexer": "ipython3",
   "version": "3.11.3"
  }
 },
 "nbformat": 4,
 "nbformat_minor": 2
}
